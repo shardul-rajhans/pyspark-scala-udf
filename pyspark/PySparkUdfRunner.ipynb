{
 "cells": [
  {
   "cell_type": "code",
   "execution_count": 1,
   "id": "9a0b42af",
   "metadata": {},
   "outputs": [],
   "source": [
    "# Setting the environment for the PySpark\n",
    "import os\n",
    "import sys\n",
    "os.environ['PYSPARK_PYTHON'] = sys.executable\n",
    "os.environ['PYSPARK_DRIVER_PYTHON'] = sys.executable\n",
    "os.environ[\"JAVA_HOME\"] = \"C:\\Java\\jdk-11.0.13\"\n",
    "os.environ[\"SPARK_HOME\"]= os.getcwd() + \"\\Lib\\site-packages\\pyspark\"\n",
    "os.environ[\"HADOOP_HOME\"]= os.getcwd() + \"\\Lib\\site-packages\\pyspark\"\n",
    "os.environ[\"PYLIB\"] = os.environ[\"SPARK_HOME\"] + \"\\python\\lib\"\n",
    "sys.path.insert(0, os.environ[\"PYLIB\"] +\"\\py4j-0.10.9.5-src.zip\")\n",
    "sys.path.insert(0, os.environ[\"PYLIB\"] +\"\\pyspark.zip\")"
   ]
  },
  {
   "cell_type": "code",
   "execution_count": 2,
   "id": "526cccfa",
   "metadata": {},
   "outputs": [],
   "source": [
    "from pyspark.sql.functions import lit, col, udf, create_map\n",
    "from pyspark.sql import SparkSession\n",
    "from pyspark.sql.column import Column, _to_java_column, _to_seq"
   ]
  },
  {
   "cell_type": "code",
   "execution_count": 3,
   "id": "5ef294ab",
   "metadata": {},
   "outputs": [],
   "source": [
    "# Creating a Spark Session\n",
    "spark = SparkSession.builder.appName('PySparkUdfRunner') \\\n",
    ".config('spark.jars', '../scalaudf_2.12-1.0.0.jar')\\\n",
    ".master(\"local[*]\") \\\n",
    ".getOrCreate()"
   ]
  },
  {
   "cell_type": "code",
   "execution_count": 4,
   "id": "b48bfedb",
   "metadata": {},
   "outputs": [],
   "source": [
    "# Reading Input Dataframe\n",
    "inputDf = spark.read \\\n",
    ".option(\"header\", value = True) \\\n",
    ".option(\"delimiter\", value = \"|\") \\\n",
    ".csv(path = \"../src/main/resources/input_data.csv\")"
   ]
  },
  {
   "cell_type": "code",
   "execution_count": 5,
   "id": "0750f88a",
   "metadata": {},
   "outputs": [
    {
     "name": "stdout",
     "output_type": "stream",
     "text": [
      "+---+----------------------------+--------------+----------+------------------------------------------------+\n",
      "|Id |Address                     |Country       |PostalCode|concat_result                                   |\n",
      "+---+----------------------------+--------------+----------+------------------------------------------------+\n",
      "|1  |315 Young Road Coeur D Alene|United States |83814     |315 Young Road Coeur D Alene,United States,83814|\n",
      "|2  |1141 Benson Park Drive      |United States |74074     |1141 Benson Park Drive,United States,74074      |\n",
      "|3  |26 Seafield Place           |United Kingdom|GU14 6LJ  |26 Seafield Place,United Kingdom,GU14 6LJ       |\n",
      "|4  |24 Bootham Terrace          |United Kingdom|ST5 2EH   |24 Bootham Terrace,United Kingdom,ST5 2EH       |\n",
      "+---+----------------------------+--------------+----------+------------------------------------------------+\n",
      "\n",
      "+---+------------------------------------------------+----------------------------------------------------+\n",
      "|Id |CompleteAddress                                 |concat_result                                       |\n",
      "+---+------------------------------------------------+----------------------------------------------------+\n",
      "|1  |315 Young Road Coeur D Alene,United States,83814|{315 Young Road Coeur D Alene, United States, 83814}|\n",
      "|2  |1141 Benson Park Drive,United States,74074      |{1141 Benson Park Drive, United States, 74074}      |\n",
      "|3  |26 Seafield Place,United Kingdom,GU14 6LJ       |{26 Seafield Place, United Kingdom, GU14 6LJ}       |\n",
      "|4  |24 Bootham Terrace,United Kingdom,ST5 2EH       |{24 Bootham Terrace, United Kingdom, ST5 2EH}       |\n",
      "+---+------------------------------------------------+----------------------------------------------------+\n",
      "\n"
     ]
    }
   ],
   "source": [
    "# Class used for execute UDF\n",
    "class UDFExecutor:\n",
    "    def __init__(self):\n",
    "        pass\n",
    "    def apply(self, udf, *args):\n",
    "        return Column(udf.apply(_to_seq(spark.sparkContext, [arg for arg in args], _to_java_column)))\n",
    "    \n",
    "# Accessing UDFBuilder written in Scala\n",
    "UDFBuilder = spark.sparkContext._jvm.com.example.udf.sdk.UDFBuilder\n",
    "\n",
    "# UDF for Concatenation of Addressing Fields\n",
    "addressUDF = UDFBuilder().forAddress()\n",
    "\n",
    "# UDF for splitting into Addressing Fields\n",
    "reverseAddressUdf = UDFBuilder().forReverseAddress()\n",
    "\n",
    "addressUdfResult = inputDf.withColumn(\"concat_result\", \n",
    "                                      UDFExecutor().apply(addressUDF, create_map(\n",
    "                                          lit(\"_Address_\"), col(\"Address\"),\n",
    "                                          lit(\"_Country_\"), col(\"Country\"),\n",
    "                                          lit(\"_PostalCode_\"), col(\"PostalCode\")))\n",
    "                                     )\n",
    "reverseAddressUdfResult = inputDf.withColumn(\"concat_result\", \n",
    "                                      UDFExecutor().apply(reverseAddressUdf, col(\"CompleteAddress\"))\n",
    "                                     )\n",
    "\n",
    "addressUdfResult.drop(\"CompleteAddress\").show(truncate = False)\n",
    "reverseAddressUdfResult.drop(\"Address\", \"Country\", \"PostalCode\").show(truncate = False)"
   ]
  },
  {
   "cell_type": "code",
   "execution_count": null,
   "id": "d29b631e",
   "metadata": {},
   "outputs": [],
   "source": []
  },
  {
   "cell_type": "code",
   "execution_count": null,
   "id": "2afb7c23",
   "metadata": {},
   "outputs": [],
   "source": []
  },
  {
   "cell_type": "code",
   "execution_count": null,
   "id": "77e08e56",
   "metadata": {},
   "outputs": [],
   "source": []
  }
 ],
 "metadata": {
  "kernelspec": {
   "display_name": "Python 3 (ipykernel)",
   "language": "python",
   "name": "python3"
  },
  "language_info": {
   "codemirror_mode": {
    "name": "ipython",
    "version": 3
   },
   "file_extension": ".py",
   "mimetype": "text/x-python",
   "name": "python",
   "nbconvert_exporter": "python",
   "pygments_lexer": "ipython3",
   "version": "3.11.0"
  }
 },
 "nbformat": 4,
 "nbformat_minor": 5
}
